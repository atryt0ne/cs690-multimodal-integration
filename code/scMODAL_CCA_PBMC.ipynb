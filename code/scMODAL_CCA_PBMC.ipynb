{
  "metadata": {
    "kernelspec": {
      "language": "python",
      "display_name": "Python 3",
      "name": "python3"
    },
    "language_info": {
      "name": "python",
      "version": "3.10.14",
      "mimetype": "text/x-python",
      "codemirror_mode": {
        "name": "ipython",
        "version": 3
      },
      "pygments_lexer": "ipython3",
      "nbconvert_exporter": "python",
      "file_extension": ".py"
    },
    "kaggle": {
      "accelerator": "nvidiaTeslaT4",
      "dataSources": [],
      "dockerImageVersionId": 30787,
      "isInternetEnabled": true,
      "language": "python",
      "sourceType": "notebook",
      "isGpuEnabled": true
    },
    "colab": {
      "name": "CCA_scMODAL_PBMC",
      "provenance": [],
      "include_colab_link": true
    }
  },
  "nbformat_minor": 0,
  "nbformat": 4,
  "cells": [
    {
      "cell_type": "markdown",
      "metadata": {
        "id": "view-in-github",
        "colab_type": "text"
      },
      "source": [
        "<a href=\"https://colab.research.google.com/github/atryt0ne/cs690-multimodal-integration/blob/main/code/scMODAL_CCA_PBMC.ipynb\" target=\"_parent\"><img src=\"https://colab.research.google.com/assets/colab-badge.svg\" alt=\"Open In Colab\"/></a>"
      ]
    },
    {
      "cell_type": "markdown",
      "source": [
        "# scMODAL CCA PBMC\n",
        "\n",
        "Demonstrates performance of scMODAL on the citeSeq PBMC dataset using CCA to identify additional linked variables"
      ],
      "metadata": {
        "id": "O-bw83pBsJIA"
      }
    },
    {
      "cell_type": "markdown",
      "source": [
        "## Data Loading"
      ],
      "metadata": {
        "id": "uGtQ76aPsJIE"
      }
    },
    {
      "cell_type": "code",
      "source": [
        "!git clone https://github.com/gefeiwang/scMODAL.git"
      ],
      "metadata": {
        "_uuid": "8f2839f25d086af736a60e9eeb907d3b93b6e0e5",
        "_cell_guid": "b1076dfc-b9ad-4769-8c92-a6c4dae69d19",
        "execution": {
          "iopub.status.busy": "2024-11-26T18:06:41.79607Z",
          "iopub.execute_input": "2024-11-26T18:06:41.796481Z",
          "iopub.status.idle": "2024-11-26T18:06:42.905876Z",
          "shell.execute_reply.started": "2024-11-26T18:06:41.796432Z",
          "shell.execute_reply": "2024-11-26T18:06:42.904715Z"
        },
        "trusted": true,
        "id": "ZuJAbqs0sJIE"
      },
      "outputs": [],
      "execution_count": null
    },
    {
      "cell_type": "code",
      "source": [
        "!cp -r scMODAL/scmodal scmodal"
      ],
      "metadata": {
        "execution": {
          "iopub.status.busy": "2024-11-26T18:06:42.90833Z",
          "iopub.execute_input": "2024-11-26T18:06:42.908681Z",
          "iopub.status.idle": "2024-11-26T18:06:44.008624Z",
          "shell.execute_reply.started": "2024-11-26T18:06:42.90865Z",
          "shell.execute_reply": "2024-11-26T18:06:44.007286Z"
        },
        "trusted": true,
        "id": "9uFhwsShsJIG"
      },
      "outputs": [],
      "execution_count": null
    },
    {
      "cell_type": "code",
      "source": [
        "!pip install anndata scanpy numba umap-learn torch annoy gdown"
      ],
      "metadata": {
        "execution": {
          "iopub.status.busy": "2024-11-26T18:06:44.01008Z",
          "iopub.execute_input": "2024-11-26T18:06:44.010461Z",
          "iopub.status.idle": "2024-11-26T18:06:52.68516Z",
          "shell.execute_reply.started": "2024-11-26T18:06:44.010419Z",
          "shell.execute_reply": "2024-11-26T18:06:52.684207Z"
        },
        "trusted": true,
        "id": "bNb1OX4asJIG"
      },
      "outputs": [],
      "execution_count": null
    },
    {
      "cell_type": "code",
      "source": [
        "!gdown 1ja8aXvTFcASyvNRDCosmXyXQaRG9XvmU"
      ],
      "metadata": {
        "trusted": true,
        "execution": {
          "iopub.status.busy": "2024-11-26T18:06:52.687836Z",
          "iopub.execute_input": "2024-11-26T18:06:52.688162Z",
          "iopub.status.idle": "2024-11-26T18:06:57.384133Z",
          "shell.execute_reply.started": "2024-11-26T18:06:52.688131Z",
          "shell.execute_reply": "2024-11-26T18:06:57.383044Z"
        },
        "id": "kKfADYEssJIH"
      },
      "outputs": [],
      "execution_count": null
    },
    {
      "cell_type": "code",
      "source": [
        "import anndata as ad\n",
        "import scanpy as sc\n",
        "import numpy as np\n",
        "import pandas as pd\n",
        "from scipy.io import mmread"
      ],
      "metadata": {
        "execution": {
          "iopub.status.busy": "2024-11-26T18:06:57.385765Z",
          "iopub.execute_input": "2024-11-26T18:06:57.386152Z",
          "iopub.status.idle": "2024-11-26T18:06:57.391626Z",
          "shell.execute_reply.started": "2024-11-26T18:06:57.386111Z",
          "shell.execute_reply": "2024-11-26T18:06:57.390549Z"
        },
        "trusted": true,
        "id": "cj-v2RSWsJIH"
      },
      "outputs": [],
      "execution_count": null
    },
    {
      "cell_type": "code",
      "source": [
        "import requests, zipfile, io, os\n",
        "local_zip_path = \"maxfuse_data.zip\"\n",
        "\n",
        "# Check if the zip file already exists locally\n",
        "if not os.path.exists(local_zip_path):\n",
        "    # Download the zip file\n",
        "    r = requests.get(\"http://stat.wharton.upenn.edu/~zongming/maxfuse/data.zip\")\n",
        "    with open(local_zip_path, 'wb') as f:\n",
        "        f.write(r.content)\n",
        "\n",
        "# Load the zip file from local storage\n",
        "with zipfile.ZipFile(local_zip_path, 'r') as z:\n",
        "    z.extractall(\"../\")\n"
      ],
      "metadata": {
        "trusted": true,
        "execution": {
          "iopub.status.busy": "2024-11-26T18:06:57.392948Z",
          "iopub.execute_input": "2024-11-26T18:06:57.393253Z",
          "iopub.status.idle": "2024-11-26T18:07:02.636879Z",
          "shell.execute_reply.started": "2024-11-26T18:06:57.393207Z",
          "shell.execute_reply": "2024-11-26T18:07:02.635781Z"
        },
        "id": "l3RR6f-9sJIH"
      },
      "outputs": [],
      "execution_count": null
    },
    {
      "cell_type": "code",
      "source": [
        "protein = pd.read_csv(\"../data/citeseq_pbmc/pro.csv\") # 10k cells (protein)\n",
        "# convert to AnnData\n",
        "protein_adata = ad.AnnData(\n",
        "    protein.to_numpy(), dtype=np.float32\n",
        ")\n",
        "protein_adata.var_names = protein.columns"
      ],
      "metadata": {
        "trusted": true,
        "execution": {
          "iopub.status.busy": "2024-11-26T18:07:02.638069Z",
          "iopub.execute_input": "2024-11-26T18:07:02.63843Z",
          "iopub.status.idle": "2024-11-26T18:07:02.798015Z",
          "shell.execute_reply.started": "2024-11-26T18:07:02.638376Z",
          "shell.execute_reply": "2024-11-26T18:07:02.796978Z"
        },
        "id": "PfSxTr4HsJII"
      },
      "outputs": [],
      "execution_count": null
    },
    {
      "cell_type": "code",
      "source": [
        "rna = mmread(\"../data/citeseq_pbmc/rna.txt\") # rna count as sparse matrix, 10k cells (RNA)\n",
        "rna_names = pd.read_csv('../data/citeseq_pbmc/citeseq_rna_names.csv')['names'].to_numpy()\n",
        "# convert to AnnData\n",
        "rna_adata = ad.AnnData(\n",
        "    rna.tocsr(), dtype=np.float32\n",
        ")\n",
        "rna_adata.var_names = rna_names"
      ],
      "metadata": {
        "trusted": true,
        "execution": {
          "iopub.status.busy": "2024-11-26T18:07:02.79944Z",
          "iopub.execute_input": "2024-11-26T18:07:02.800221Z",
          "iopub.status.idle": "2024-11-26T18:07:07.146317Z",
          "shell.execute_reply.started": "2024-11-26T18:07:02.800174Z",
          "shell.execute_reply": "2024-11-26T18:07:07.145381Z"
        },
        "id": "CJdTG1SJsJII"
      },
      "outputs": [],
      "execution_count": null
    },
    {
      "cell_type": "code",
      "source": [
        "metadata = pd.read_csv('../data/citeseq_pbmc/meta.csv')\n",
        "labels_l1 = metadata['celltype.l1'].to_numpy()\n",
        "labels_l2 = metadata['celltype.l2'].to_numpy()\n",
        "\n",
        "protein_adata.obs['celltype.l1'] = labels_l1\n",
        "protein_adata.obs['celltype.l2'] = labels_l2\n",
        "rna_adata.obs['celltype.l1'] = labels_l1\n",
        "rna_adata.obs['celltype.l2'] = labels_l2"
      ],
      "metadata": {
        "trusted": true,
        "execution": {
          "iopub.status.busy": "2024-11-26T18:07:07.147384Z",
          "iopub.execute_input": "2024-11-26T18:07:07.147665Z",
          "iopub.status.idle": "2024-11-26T18:07:07.172129Z",
          "shell.execute_reply.started": "2024-11-26T18:07:07.147639Z",
          "shell.execute_reply": "2024-11-26T18:07:07.171357Z"
        },
        "id": "N1jaheBCsJII"
      },
      "outputs": [],
      "execution_count": null
    },
    {
      "cell_type": "markdown",
      "source": [
        "## Linked Variables"
      ],
      "metadata": {
        "id": "HSyPjXiPsJIJ"
      }
    },
    {
      "cell_type": "code",
      "source": [
        "prot_gene = pd.read_csv('protein_gene_conversion.csv')\n",
        "prot_gene.head()"
      ],
      "metadata": {
        "trusted": true,
        "execution": {
          "iopub.status.busy": "2024-11-26T18:07:07.175138Z",
          "iopub.execute_input": "2024-11-26T18:07:07.175463Z",
          "iopub.status.idle": "2024-11-26T18:07:07.187354Z",
          "shell.execute_reply.started": "2024-11-26T18:07:07.175433Z",
          "shell.execute_reply": "2024-11-26T18:07:07.186672Z"
        },
        "id": "Qk6LZLTvsJIJ"
      },
      "outputs": [],
      "execution_count": null
    },
    {
      "cell_type": "code",
      "source": [
        "rna_protein_correspondence = []\n",
        "\n",
        "for i in range(prot_gene.shape[0]):\n",
        "    curr_protein_name, curr_rna_names = prot_gene.iloc[i]\n",
        "    if curr_protein_name not in protein_adata.var_names:\n",
        "        continue\n",
        "    if curr_rna_names.find('Ignore') != -1: # some correspondence ignored eg. protein isoform to one gene\n",
        "        continue\n",
        "    curr_rna_names = curr_rna_names.split('/') # eg. one protein to multiple genes\n",
        "    for r in curr_rna_names:\n",
        "        if r in rna_adata.var_names:\n",
        "            rna_protein_correspondence.append([r, curr_protein_name])"
      ],
      "metadata": {
        "trusted": true,
        "execution": {
          "iopub.status.busy": "2024-11-26T18:07:07.188205Z",
          "iopub.execute_input": "2024-11-26T18:07:07.188454Z",
          "iopub.status.idle": "2024-11-26T18:07:07.210134Z",
          "shell.execute_reply.started": "2024-11-26T18:07:07.18843Z",
          "shell.execute_reply": "2024-11-26T18:07:07.209222Z"
        },
        "id": "Eo4s7hPgsJIJ"
      },
      "outputs": [],
      "execution_count": null
    },
    {
      "cell_type": "code",
      "source": [
        "len(rna_protein_correspondence)"
      ],
      "metadata": {
        "trusted": true,
        "execution": {
          "iopub.status.busy": "2024-11-26T18:07:07.211275Z",
          "iopub.execute_input": "2024-11-26T18:07:07.211598Z",
          "iopub.status.idle": "2024-11-26T18:07:07.217053Z",
          "shell.execute_reply.started": "2024-11-26T18:07:07.21157Z",
          "shell.execute_reply": "2024-11-26T18:07:07.216215Z"
        },
        "id": "zK4vFsC4sJIJ"
      },
      "outputs": [],
      "execution_count": null
    },
    {
      "cell_type": "code",
      "source": [
        "!gdown 1Js_jfhoNDIfZo1PJdOPud4vul_CkGQhY"
      ],
      "metadata": {
        "trusted": true,
        "execution": {
          "iopub.status.busy": "2024-11-26T18:07:07.218433Z",
          "iopub.execute_input": "2024-11-26T18:07:07.21926Z",
          "iopub.status.idle": "2024-11-26T18:07:12.148592Z",
          "shell.execute_reply.started": "2024-11-26T18:07:07.21923Z",
          "shell.execute_reply": "2024-11-26T18:07:12.147412Z"
        },
        "id": "ZjYpYcbvsJIJ"
      },
      "outputs": [],
      "execution_count": null
    },
    {
      "cell_type": "code",
      "source": [
        "correspondence = pd.read_csv('correlated_pairs.csv')\n",
        "# correspondence = correspondence[['Protein Name', 'RNA Name']]\n",
        "correspondence.shape[0]"
      ],
      "metadata": {
        "trusted": true,
        "execution": {
          "iopub.status.busy": "2024-11-26T18:07:12.150252Z",
          "iopub.execute_input": "2024-11-26T18:07:12.150569Z",
          "iopub.status.idle": "2024-11-26T18:07:12.160456Z",
          "shell.execute_reply.started": "2024-11-26T18:07:12.15054Z",
          "shell.execute_reply": "2024-11-26T18:07:12.159658Z"
        },
        "id": "bJva2vdisJIK"
      },
      "outputs": [],
      "execution_count": null
    },
    {
      "cell_type": "code",
      "source": [
        "for i in range(min(correspondence.shape[0],10)):\n",
        "    curr_protein_name, curr_rna_names = correspondence.iloc[i]\n",
        "    if curr_protein_name not in protein_adata.var_names:\n",
        "        continue\n",
        "    if curr_rna_names.find('Ignore') != -1: # some correspondence ignored eg. protein isoform to one gene\n",
        "        continue\n",
        "    curr_rna_names = curr_rna_names.split('/') # eg. one protein to multiple genes\n",
        "    for r in curr_rna_names:\n",
        "        if r in rna_adata.var_names:\n",
        "            rna_protein_correspondence.append([r, curr_protein_name])\n",
        "\n",
        "rna_protein_correspondence = np.array(rna_protein_correspondence)"
      ],
      "metadata": {
        "trusted": true,
        "execution": {
          "iopub.status.busy": "2024-11-26T18:07:12.161572Z",
          "iopub.execute_input": "2024-11-26T18:07:12.161833Z",
          "iopub.status.idle": "2024-11-26T18:07:12.17434Z",
          "shell.execute_reply.started": "2024-11-26T18:07:12.161809Z",
          "shell.execute_reply": "2024-11-26T18:07:12.173517Z"
        },
        "id": "3BsH8W-1sJIK"
      },
      "outputs": [],
      "execution_count": null
    },
    {
      "cell_type": "code",
      "source": [
        "# Columns rna_shared and protein_shared are matched.\n",
        "# One may encounter \"Variable names are not unique\" warning,\n",
        "# this is fine and is because one RNA may encode multiple proteins and vice versa.\n",
        "rna_shared = rna_adata[:, rna_protein_correspondence[:, 0]].copy()\n",
        "protein_shared = protein_adata[:, rna_protein_correspondence[:, 1]].copy()"
      ],
      "metadata": {
        "trusted": true,
        "execution": {
          "iopub.status.busy": "2024-11-26T18:07:12.175426Z",
          "iopub.execute_input": "2024-11-26T18:07:12.175728Z",
          "iopub.status.idle": "2024-11-26T18:07:12.262207Z",
          "shell.execute_reply.started": "2024-11-26T18:07:12.175703Z",
          "shell.execute_reply": "2024-11-26T18:07:12.261254Z"
        },
        "id": "2M6JYXXbsJIK"
      },
      "outputs": [],
      "execution_count": null
    },
    {
      "cell_type": "code",
      "source": [
        "# Determine the indices of shared columns\n",
        "shared_rna_indices = rna_protein_correspondence[:, 0]\n",
        "shared_protein_indices = rna_protein_correspondence[:, 1]\n",
        "\n",
        "# Identify the non-shared columns\n",
        "all_rna_columns = np.array(rna_adata.var_names)\n",
        "all_protein_columns = np.array(protein_adata.var_names)\n",
        "\n",
        "non_shared_rna_indices = np.setdiff1d(all_rna_columns, shared_rna_indices)\n",
        "non_shared_protein_indices = np.setdiff1d(all_protein_columns, shared_protein_indices)\n",
        "\n",
        "\n",
        "# Reorder the columns so that shared columns come first\n",
        "reordered_rna_adata = rna_adata[:, np.concatenate([shared_rna_indices, non_shared_rna_indices])]\n",
        "reordered_protein_adata = protein_adata[:, np.concatenate([shared_protein_indices, non_shared_protein_indices])]\n",
        "\n",
        "# Save the reordered AnnData objects as bmc_rna and bmc_protein\n",
        "rna_adata = reordered_rna_adata\n",
        "protein_adata = reordered_protein_adata\n",
        "\n",
        "# Optionally, save the AnnData objects to files\n",
        "rna_adata.write(\"proc_rna.h5ad\")\n",
        "protein_adata.write(\"proc_protein.h5ad\")\n",
        "print(f\"Number of Shared Columns: {len(shared_rna_indices)}\")"
      ],
      "metadata": {
        "trusted": true,
        "execution": {
          "iopub.status.busy": "2024-11-26T18:07:12.263281Z",
          "iopub.execute_input": "2024-11-26T18:07:12.263583Z",
          "iopub.status.idle": "2024-11-26T18:07:13.056877Z",
          "shell.execute_reply.started": "2024-11-26T18:07:12.263556Z",
          "shell.execute_reply": "2024-11-26T18:07:13.056016Z"
        },
        "id": "fm8w80hOsJIK"
      },
      "outputs": [],
      "execution_count": null
    },
    {
      "cell_type": "code",
      "source": [
        "n_shared = len(shared_rna_indices)"
      ],
      "metadata": {
        "trusted": true,
        "execution": {
          "iopub.status.busy": "2024-11-26T18:07:13.059277Z",
          "iopub.execute_input": "2024-11-26T18:07:13.059592Z",
          "iopub.status.idle": "2024-11-26T18:07:13.064445Z",
          "shell.execute_reply.started": "2024-11-26T18:07:13.059564Z",
          "shell.execute_reply": "2024-11-26T18:07:13.063404Z"
        },
        "id": "gH5RQe8UsJIK"
      },
      "outputs": [],
      "execution_count": null
    },
    {
      "cell_type": "markdown",
      "source": [
        "## Preprocessing"
      ],
      "metadata": {
        "id": "EzJVlPzfsJIL"
      }
    },
    {
      "cell_type": "code",
      "source": [
        "# row sum for RNA\n",
        "rna_counts = rna_adata.X.sum(axis=1)\n",
        "# row sum for protein\n",
        "protein_counts = protein_adata.X.sum(axis=1)\n",
        "# take median of each and then take mean\n",
        "target_sum = (np.median(rna_counts.copy()) + np.median(protein_counts.copy())) / 2"
      ],
      "metadata": {
        "execution": {
          "iopub.status.busy": "2024-11-26T18:07:13.065604Z",
          "iopub.execute_input": "2024-11-26T18:07:13.065939Z",
          "iopub.status.idle": "2024-11-26T18:07:13.084184Z",
          "shell.execute_reply.started": "2024-11-26T18:07:13.065903Z",
          "shell.execute_reply": "2024-11-26T18:07:13.083533Z"
        },
        "trusted": true,
        "id": "nyak3xKJsJIL"
      },
      "outputs": [],
      "execution_count": null
    },
    {
      "cell_type": "code",
      "source": [
        "# process rna_shared\n",
        "sc.pp.normalize_total(rna_adata)\n",
        "sc.pp.log1p(rna_adata)\n",
        "sc.pp.scale(rna_adata)\n",
        "# plot UMAPs of rna cells based only on rna markers with protein correspondence\n",
        "sc.pp.neighbors(rna_adata, n_neighbors=15)\n",
        "sc.tl.umap(rna_adata)\n",
        "sc.pl.umap(rna_adata, color=['celltype.l1','celltype.l2'])"
      ],
      "metadata": {
        "execution": {
          "iopub.status.busy": "2024-11-26T18:07:13.0852Z",
          "iopub.execute_input": "2024-11-26T18:07:13.085472Z",
          "iopub.status.idle": "2024-11-26T18:08:01.88744Z",
          "shell.execute_reply.started": "2024-11-26T18:07:13.085446Z",
          "shell.execute_reply": "2024-11-26T18:08:01.886596Z"
        },
        "trusted": true,
        "id": "x5TubLMbsJIL"
      },
      "outputs": [],
      "execution_count": null
    },
    {
      "cell_type": "code",
      "source": [
        "# process protein_shared\n",
        "sc.pp.normalize_total(protein_adata)\n",
        "sc.pp.log1p(protein_adata)\n",
        "sc.pp.scale(protein_adata)\n",
        "# plot UMAPs of protein cells based only on protein markers with rna correspondence\n",
        "\n",
        "sc.pp.neighbors(protein_adata, n_neighbors=15)\n",
        "sc.tl.umap(protein_adata)\n",
        "sc.pl.umap(protein_adata, color=['celltype.l1','celltype.l2'])"
      ],
      "metadata": {
        "trusted": true,
        "execution": {
          "iopub.status.busy": "2024-11-26T18:08:01.888642Z",
          "iopub.execute_input": "2024-11-26T18:08:01.888887Z",
          "iopub.status.idle": "2024-11-26T18:08:22.788865Z",
          "shell.execute_reply.started": "2024-11-26T18:08:01.888864Z",
          "shell.execute_reply": "2024-11-26T18:08:22.78786Z"
        },
        "id": "iTF5AcsssJIL"
      },
      "outputs": [],
      "execution_count": null
    },
    {
      "cell_type": "markdown",
      "source": [
        "## Model Training"
      ],
      "metadata": {
        "id": "6CpAk8blsJIL"
      }
    },
    {
      "cell_type": "code",
      "source": [
        "import scmodal\n",
        "\n",
        "model = scmodal.model.Model(training_steps=6000)\n",
        "model.preprocess(rna_adata, protein_adata, shared_gene_num=n_shared)\n",
        "model.train() # train the model\n",
        "model.eval() # get integrated latent representation of cells"
      ],
      "metadata": {
        "execution": {
          "iopub.status.busy": "2024-11-26T18:08:22.79162Z",
          "iopub.execute_input": "2024-11-26T18:08:22.792284Z",
          "iopub.status.idle": "2024-11-26T18:08:23.600924Z",
          "shell.execute_reply.started": "2024-11-26T18:08:22.792243Z",
          "shell.execute_reply": "2024-11-26T18:08:23.599714Z"
        },
        "trusted": true,
        "id": "2VT5o27vsJIL"
      },
      "outputs": [],
      "execution_count": null
    },
    {
      "cell_type": "markdown",
      "source": [
        "## Model Evaluation"
      ],
      "metadata": {
        "id": "onx-Ml-PsJIL"
      }
    },
    {
      "cell_type": "code",
      "source": [
        "adata_int = anndata.AnnData(X=model.latent)\n",
        "adata_int.obs = pd.concat([rna_adata.obs, protein_adata.obs])\n",
        "adata_int.obs['modality'] = ['RNA'] * rna_adata.shape[0] + ['ADT'] * protein_adata.shape[0]\n",
        "\n",
        "scmodal.utils.compute_umap(adata_int)"
      ],
      "metadata": {
        "execution": {
          "iopub.status.busy": "2024-11-26T18:08:23.602136Z",
          "iopub.status.idle": "2024-11-26T18:08:23.60245Z",
          "shell.execute_reply.started": "2024-11-26T18:08:23.602294Z",
          "shell.execute_reply": "2024-11-26T18:08:23.602307Z"
        },
        "trusted": true,
        "id": "ycJN0WhAsJIL"
      },
      "outputs": [],
      "execution_count": null
    },
    {
      "cell_type": "markdown",
      "source": [
        "### Integrated Representation"
      ],
      "metadata": {
        "id": "cc0WakwIsJIM"
      }
    },
    {
      "cell_type": "code",
      "source": [
        "sc.pl.umap(adata_int,color=['modality','celltype.l2'],save = 'umap.png')"
      ],
      "metadata": {
        "execution": {
          "iopub.status.busy": "2024-11-26T18:08:23.603543Z",
          "iopub.status.idle": "2024-11-26T18:08:23.603862Z",
          "shell.execute_reply.started": "2024-11-26T18:08:23.603716Z",
          "shell.execute_reply": "2024-11-26T18:08:23.603732Z"
        },
        "trusted": true,
        "id": "viHRUxZAsJIM"
      },
      "outputs": [],
      "execution_count": null
    },
    {
      "cell_type": "markdown",
      "source": [
        "### Label Transfer Accuracy"
      ],
      "metadata": {
        "id": "QhyioRl7sJIM"
      }
    },
    {
      "cell_type": "code",
      "source": [
        "from scipy.spatial.distance import cdist\n",
        "\n",
        "dist_mtx = cdist(model.latent[rna_adata.shape[0]:, :],\n",
        "                 model.latent[:rna_adata.shape[0], :],\n",
        "                 metric='euclidean') # Transfer labels from RNA to ADT\n",
        "\n",
        "matching = dist_mtx.argsort()[:, :1]\n",
        "\n",
        "df1_labels = rna_adata.obs[\"celltype.l1\"].values\n",
        "df2_labels = protein_adata.obs[\"celltype.l1\"].values\n",
        "\n",
        "print(\"Label transfer accuracy: \", np.sum(df1_labels == df2_labels[matching.reshape(-1)]) / rna_adata.shape[0])"
      ],
      "metadata": {
        "execution": {
          "iopub.status.busy": "2024-11-26T18:08:23.604789Z",
          "iopub.status.idle": "2024-11-26T18:08:23.605087Z",
          "shell.execute_reply.started": "2024-11-26T18:08:23.604945Z",
          "shell.execute_reply": "2024-11-26T18:08:23.60496Z"
        },
        "trusted": true,
        "id": "ubbRdu5psJIM"
      },
      "outputs": [],
      "execution_count": null
    },
    {
      "cell_type": "code",
      "source": [
        "df1_labels_2 = rna_adata.obs[\"celltype.l2\"].values\n",
        "df2_labels_2 = protein_adata.obs[\"celltype.l2\"].values\n",
        "\n",
        "print(\"Label transfer accuracy: \", np.sum(df1_labels_2 == df2_labels_2[matching.reshape(-1)]) / rna_adata.shape[0])"
      ],
      "metadata": {
        "execution": {
          "iopub.status.busy": "2024-11-26T18:08:23.60601Z",
          "iopub.status.idle": "2024-11-26T18:08:23.606311Z",
          "shell.execute_reply.started": "2024-11-26T18:08:23.606169Z",
          "shell.execute_reply": "2024-11-26T18:08:23.606184Z"
        },
        "trusted": true,
        "id": "FwfE9tI8sJIM"
      },
      "outputs": [],
      "execution_count": null
    },
    {
      "cell_type": "markdown",
      "source": [
        "### FOSCTTM"
      ],
      "metadata": {
        "id": "T_rU1CvPsJIM"
      }
    },
    {
      "cell_type": "code",
      "source": [
        "rna_cca, protein_cca = model.latent[rna_adata.shape[0]:, :], model.latent[:rna_adata.shape[0], :]"
      ],
      "metadata": {
        "execution": {
          "iopub.status.busy": "2024-11-26T18:08:23.607359Z",
          "iopub.status.idle": "2024-11-26T18:08:23.607673Z",
          "shell.execute_reply.started": "2024-11-26T18:08:23.607523Z",
          "shell.execute_reply": "2024-11-26T18:08:23.607539Z"
        },
        "trusted": true,
        "id": "1UsAWpwgsJIM"
      },
      "outputs": [],
      "execution_count": null
    },
    {
      "cell_type": "code",
      "source": [
        "def cdist_correlation(arr1, arr2):\n",
        "    \"\"\"Calculate pair-wise 1 - Pearson correlation between X and Y.\n",
        "\n",
        "    Parameters\n",
        "    ----------\n",
        "    arr1: np.array of shape (n_samples1, n_features)\n",
        "        First dataset.\n",
        "    arr2: np.array of shape (n_samples2, n_features)\n",
        "        Second dataset.\n",
        "\n",
        "    Returns\n",
        "    -------\n",
        "    array-like of shape (n_samples1, n_samples2)\n",
        "        The (i, j)-th entry is 1 - Pearson correlation between i-th row of arr1 and j-th row of arr2.\n",
        "    \"\"\"\n",
        "    n, p = arr1.shape\n",
        "    m, p2 = arr2.shape\n",
        "    assert p2 == p\n",
        "\n",
        "    arr1 = (arr1.T - np.mean(arr1, axis=1)).T\n",
        "    arr2 = (arr2.T - np.mean(arr2, axis=1)).T\n",
        "\n",
        "    arr1 = (arr1.T / np.sqrt(1e-6 + np.sum(arr1 ** 2, axis=1))).T\n",
        "    arr2 = (arr2.T / np.sqrt(1e-6 + np.sum(arr2 ** 2, axis=1))).T\n",
        "\n",
        "    return 1 - arr1 @ arr2.T\n",
        "\n",
        "def get_foscttm(dist, true_matching='identity'):\n",
        "    \"\"\"\n",
        "    Compute the fraction of samples closer than true match.\n",
        "\n",
        "    Parameters\n",
        "    ----------\n",
        "    dist: np.ndarray of shape (n1, n2)\n",
        "        Distance matrix.\n",
        "    true_matching: 'identity' or Iterable of length n1, default='identity'\n",
        "        If is a list, then the ground truth matched pairs are (i, true_matching[i])\n",
        "        If is 'identity', then true_matching = [0, 1..., n1].\n",
        "\n",
        "    Returns\n",
        "    -------\n",
        "    The fraction of samples closer than true match.\n",
        "    \"\"\"\n",
        "    n1, _ = dist.shape\n",
        "    if true_matching == 'identity':\n",
        "        true_matching = np.arange(n1)\n",
        "    elif isinstance(true_matching, Iterable):\n",
        "        true_matching = [i for i in true_matching]\n",
        "    else:\n",
        "        raise NotImplementedError('true_matching must be \\'identity\\' or Iterable of length dist.shape[0].')\n",
        "    # mask[i, j] = True iff dist[i, j] < dist[i, true_matching[i]]\n",
        "    mask = (dist.T < dist[np.arange(n1), true_matching]).T\n",
        "    return np.mean(np.mean(mask, axis=1))\n",
        "\n",
        "dim_use = 15 # dimensions of the CCA embedding to be used for UMAP etc\n",
        "\n",
        "get_foscttm(\n",
        "    dist=cdist_correlation(rna_cca[:,:dim_use], protein_cca[:,:dim_use]),\n",
        "    true_matching='identity'\n",
        ")"
      ],
      "metadata": {
        "execution": {
          "iopub.status.busy": "2024-11-26T18:08:23.609524Z",
          "iopub.status.idle": "2024-11-26T18:08:23.609829Z",
          "shell.execute_reply.started": "2024-11-26T18:08:23.609686Z",
          "shell.execute_reply": "2024-11-26T18:08:23.609701Z"
        },
        "trusted": true,
        "id": "jL4PtW-psJIM"
      },
      "outputs": [],
      "execution_count": null
    },
    {
      "cell_type": "code",
      "source": [],
      "metadata": {
        "trusted": true,
        "id": "nvXfShAWsJIN"
      },
      "outputs": [],
      "execution_count": null
    }
  ]
}