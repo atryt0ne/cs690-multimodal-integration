{
 "cells": [
  {
   "cell_type": "code",
   "execution_count": 2,
   "metadata": {
    "_cell_guid": "b1076dfc-b9ad-4769-8c92-a6c4dae69d19",
    "_uuid": "8f2839f25d086af736a60e9eeb907d3b93b6e0e5",
    "execution": {
     "iopub.execute_input": "2024-11-26T16:26:26.882014Z",
     "iopub.status.busy": "2024-11-26T16:26:26.881800Z",
     "iopub.status.idle": "2024-11-26T16:26:28.460977Z",
     "shell.execute_reply": "2024-11-26T16:26:28.460209Z",
     "shell.execute_reply.started": "2024-11-26T16:26:26.881991Z"
    },
    "trusted": true
   },
   "outputs": [
    {
     "name": "stdout",
     "output_type": "stream",
     "text": [
      "Cloning into 'scMODAL'...\n",
      "remote: Enumerating objects: 57, done.\u001b[K\n",
      "remote: Counting objects: 100% (57/57), done.\u001b[K\n",
      "remote: Compressing objects: 100% (52/52), done.\u001b[K\n",
      "remote: Total 57 (delta 18), reused 0 (delta 0), pack-reused 0 (from 0)\u001b[K\n",
      "Receiving objects: 100% (57/57), 1.18 MiB | 10.48 MiB/s, done.\n",
      "Resolving deltas: 100% (18/18), done.\n"
     ]
    }
   ],
   "source": [
    "!git clone https://github.com/gefeiwang/scMODAL.git"
   ]
  },
  {
   "cell_type": "code",
   "execution_count": 3,
   "metadata": {
    "execution": {
     "iopub.execute_input": "2024-11-26T16:26:28.463327Z",
     "iopub.status.busy": "2024-11-26T16:26:28.463037Z",
     "iopub.status.idle": "2024-11-26T16:26:29.459944Z",
     "shell.execute_reply": "2024-11-26T16:26:29.458960Z",
     "shell.execute_reply.started": "2024-11-26T16:26:28.463295Z"
    },
    "trusted": true
   },
   "outputs": [],
   "source": [
    "!cp -r scMODAL/scmodal scmodal"
   ]
  },
  {
   "cell_type": "code",
   "execution_count": null,
   "metadata": {
    "execution": {
     "iopub.execute_input": "2024-11-26T16:26:29.461992Z",
     "iopub.status.busy": "2024-11-26T16:26:29.461592Z",
     "iopub.status.idle": "2024-11-26T16:26:37.656714Z",
     "shell.execute_reply": "2024-11-26T16:26:37.655658Z",
     "shell.execute_reply.started": "2024-11-26T16:26:29.461951Z"
    },
    "trusted": true
   },
   "outputs": [
    {
     "name": "stdout",
     "output_type": "stream",
     "text": [
      "Requirement already satisfied: anndata in /opt/conda/lib/python3.10/site-packages (0.11.1)\n",
      "Requirement already satisfied: scanpy in /opt/conda/lib/python3.10/site-packages (1.10.4)\n",
      "Requirement already satisfied: numba in /opt/conda/lib/python3.10/site-packages (0.60.0)\n",
      "Requirement already satisfied: umap-learn in /opt/conda/lib/python3.10/site-packages (0.5.7)\n",
      "Requirement already satisfied: array-api-compat!=1.5,>1.4 in /opt/conda/lib/python3.10/site-packages (from anndata) (1.9.1)\n",
      "Requirement already satisfied: exceptiongroup in /opt/conda/lib/python3.10/site-packages (from anndata) (1.2.0)\n",
      "Requirement already satisfied: h5py>=3.6 in /opt/conda/lib/python3.10/site-packages (from anndata) (3.11.0)\n",
      "Requirement already satisfied: natsort in /opt/conda/lib/python3.10/site-packages (from anndata) (8.4.0)\n",
      "Requirement already satisfied: numpy>=1.23 in /opt/conda/lib/python3.10/site-packages (from anndata) (1.26.4)\n",
      "Requirement already satisfied: packaging>=20.0 in /opt/conda/lib/python3.10/site-packages (from anndata) (21.3)\n",
      "Requirement already satisfied: pandas!=2.1.0rc0,!=2.1.2,>=1.4 in /opt/conda/lib/python3.10/site-packages (from anndata) (2.2.2)\n",
      "Requirement already satisfied: scipy>1.8 in /opt/conda/lib/python3.10/site-packages (from anndata) (1.14.1)\n",
      "Requirement already satisfied: joblib in /opt/conda/lib/python3.10/site-packages (from scanpy) (1.4.2)\n",
      "Requirement already satisfied: legacy-api-wrap>=1.4 in /opt/conda/lib/python3.10/site-packages (from scanpy) (1.4.1)\n",
      "Requirement already satisfied: matplotlib>=3.6 in /opt/conda/lib/python3.10/site-packages (from scanpy) (3.7.5)\n",
      "Requirement already satisfied: networkx>=2.7 in /opt/conda/lib/python3.10/site-packages (from scanpy) (3.3)\n",
      "Requirement already satisfied: patsy!=1.0.0 in /opt/conda/lib/python3.10/site-packages (from scanpy) (0.5.6)\n",
      "Requirement already satisfied: pynndescent>=0.5 in /opt/conda/lib/python3.10/site-packages (from scanpy) (0.5.13)\n",
      "Requirement already satisfied: scikit-learn>=1.1 in /opt/conda/lib/python3.10/site-packages (from scanpy) (1.2.2)\n",
      "Requirement already satisfied: seaborn>=0.13 in /opt/conda/lib/python3.10/site-packages (from scanpy) (0.13.2)\n",
      "Requirement already satisfied: session-info in /opt/conda/lib/python3.10/site-packages (from scanpy) (1.0.0)\n",
      "Requirement already satisfied: statsmodels>=0.13 in /opt/conda/lib/python3.10/site-packages (from scanpy) (0.14.2)\n",
      "Requirement already satisfied: tqdm in /opt/conda/lib/python3.10/site-packages (from scanpy) (4.66.4)\n",
      "Requirement already satisfied: llvmlite<0.44,>=0.43.0dev0 in /opt/conda/lib/python3.10/site-packages (from numba) (0.43.0)\n",
      "Requirement already satisfied: contourpy>=1.0.1 in /opt/conda/lib/python3.10/site-packages (from matplotlib>=3.6->scanpy) (1.2.1)\n",
      "Requirement already satisfied: cycler>=0.10 in /opt/conda/lib/python3.10/site-packages (from matplotlib>=3.6->scanpy) (0.12.1)\n",
      "Requirement already satisfied: fonttools>=4.22.0 in /opt/conda/lib/python3.10/site-packages (from matplotlib>=3.6->scanpy) (4.53.0)\n",
      "Requirement already satisfied: kiwisolver>=1.0.1 in /opt/conda/lib/python3.10/site-packages (from matplotlib>=3.6->scanpy) (1.4.5)\n",
      "Requirement already satisfied: pillow>=6.2.0 in /opt/conda/lib/python3.10/site-packages (from matplotlib>=3.6->scanpy) (10.3.0)\n",
      "Requirement already satisfied: pyparsing>=2.3.1 in /opt/conda/lib/python3.10/site-packages (from matplotlib>=3.6->scanpy) (3.1.2)\n",
      "Requirement already satisfied: python-dateutil>=2.7 in /opt/conda/lib/python3.10/site-packages (from matplotlib>=3.6->scanpy) (2.9.0.post0)\n",
      "Requirement already satisfied: pytz>=2020.1 in /opt/conda/lib/python3.10/site-packages (from pandas!=2.1.0rc0,!=2.1.2,>=1.4->anndata) (2024.1)\n",
      "Requirement already satisfied: tzdata>=2022.7 in /opt/conda/lib/python3.10/site-packages (from pandas!=2.1.0rc0,!=2.1.2,>=1.4->anndata) (2024.1)\n",
      "Requirement already satisfied: six in /opt/conda/lib/python3.10/site-packages (from patsy!=1.0.0->scanpy) (1.16.0)\n",
      "Requirement already satisfied: threadpoolctl>=2.0.0 in /opt/conda/lib/python3.10/site-packages (from scikit-learn>=1.1->scanpy) (3.5.0)\n",
      "Requirement already satisfied: stdlib-list in /opt/conda/lib/python3.10/site-packages (from session-info->scanpy) (0.11.0)\n"
     ]
    }
   ],
   "source": [
    "!pip install anndata scanpy numba umap-learn torch annoy"
   ]
  },
  {
   "cell_type": "code",
   "execution_count": null,
   "metadata": {
    "execution": {
     "iopub.execute_input": "2024-11-26T16:26:53.907206Z",
     "iopub.status.busy": "2024-11-26T16:26:53.906952Z",
     "iopub.status.idle": "2024-11-26T16:27:01.037099Z",
     "shell.execute_reply": "2024-11-26T16:27:01.036423Z",
     "shell.execute_reply.started": "2024-11-26T16:26:53.907181Z"
    },
    "trusted": true
   },
   "outputs": [],
   "source": [
    "import anndata\n",
    "import scanpy as sc\n",
    "import numpy as np \n",
    "import pandas as pd \n",
    "from sklearn.utils.extmath import randomized_svd"
   ]
  },
  {
   "cell_type": "code",
   "execution_count": 8,
   "metadata": {
    "execution": {
     "iopub.execute_input": "2024-11-26T16:27:01.039264Z",
     "iopub.status.busy": "2024-11-26T16:27:01.038253Z",
     "iopub.status.idle": "2024-11-26T16:27:08.820884Z",
     "shell.execute_reply": "2024-11-26T16:27:08.820138Z",
     "shell.execute_reply.started": "2024-11-26T16:27:01.039221Z"
    },
    "trusted": true
   },
   "outputs": [],
   "source": [
    "import requests, zipfile, io, os\n",
    "local_zip_path = \"maxfuse_data.zip\"\n",
    "\n",
    "# Check if the zip file already exists locally\n",
    "if not os.path.exists(local_zip_path):\n",
    "    # Download the zip file\n",
    "    r = requests.get(\"http://stat.wharton.upenn.edu/~zongming/maxfuse/data.zip\")\n",
    "    with open(local_zip_path, 'wb') as f:\n",
    "        f.write(r.content)\n",
    "\n",
    "# Load the zip file from local storage\n",
    "with zipfile.ZipFile(local_zip_path, 'r') as z:\n",
    "    z.extractall(\"../\")\n"
   ]
  },
  {
   "cell_type": "code",
   "execution_count": null,
   "metadata": {
    "execution": {
     "iopub.execute_input": "2024-11-26T16:27:08.822615Z",
     "iopub.status.busy": "2024-11-26T16:27:08.822304Z",
     "iopub.status.idle": "2024-11-26T16:27:08.938197Z",
     "shell.execute_reply": "2024-11-26T16:27:08.937379Z",
     "shell.execute_reply.started": "2024-11-26T16:27:08.822589Z"
    },
    "trusted": true
   },
   "outputs": [],
   "source": [
    "import numpy as np\n",
    "import pandas as pd\n",
    "from scipy.io import mmread\n",
    "import anndata as ad\n",
    "import scanpy as sc\n",
    "# import maxfuse as mf"
   ]
  },
  {
   "cell_type": "code",
   "execution_count": null,
   "metadata": {
    "execution": {
     "iopub.execute_input": "2024-11-26T16:27:08.939897Z",
     "iopub.status.busy": "2024-11-26T16:27:08.939555Z",
     "iopub.status.idle": "2024-11-26T16:27:08.954646Z",
     "shell.execute_reply": "2024-11-26T16:27:08.953806Z",
     "shell.execute_reply.started": "2024-11-26T16:27:08.939860Z"
    },
    "trusted": true
   },
   "outputs": [],
   "source": [
    "import numpy as np\n",
    "from sklearn.utils.extmath import randomized_svd\n",
    "\n",
    "def compute_correlated_pairs(rna_adata, protein_adata, k,  correspondence, output_csv_path='correlated_pairs.csv'):\n",
    "    \n",
    "    # Copy the input data\n",
    "    rna_adata_cca = rna_adata.copy()\n",
    "    protein_adata_cca = protein_adata.copy()\n",
    "\n",
    "    # Group data by cell types and compute mean\n",
    "    rna_grouped = rna_adata_cca.to_df().groupby(rna_adata.obs['celltype.l1']).mean()\n",
    "    protein_grouped = protein_adata_cca.to_df().groupby(protein_adata.obs['celltype.l1']).mean()\n",
    "\n",
    "    # Find common cell types and reshape data matrices\n",
    "    common_index = rna_grouped.index.intersection(protein_grouped.index)\n",
    "    rna_grouped = rna_grouped.loc[common_index]\n",
    "    protein_grouped = protein_grouped.loc[common_index]\n",
    "    print(\"Data grouped...\")\n",
    "\n",
    "    # Convert grouped dataframes to numpy arrays\n",
    "    rna_cca_data = rna_grouped.values\n",
    "    protein_cca_data = protein_grouped.values\n",
    "\n",
    "    # Ensure both matrices have the same shape\n",
    "    assert rna_cca_data.shape[0] == protein_cca_data.shape[0], \"RNA and Protein data must have the same set of cells.\"\n",
    "\n",
    "    # Log + 1 Normalization\n",
    "    rna_cca_data = np.log1p(rna_cca_data)\n",
    "    protein_cca_data = np.log1p(protein_cca_data)\n",
    "    print(\"Data Normalized...\")\n",
    "\n",
    "    # Mean-centering the RNA and Protein data\n",
    "    rna_centered = rna_cca_data - np.mean(rna_cca_data, axis=0)\n",
    "    protein_centered = protein_cca_data - np.mean(protein_cca_data, axis=0)\n",
    "    print(\"Data Centered...\")\n",
    "\n",
    "    # Computing the covariance matrix\n",
    "    covariance_matrix = np.cov(rna_centered.T, protein_centered.T)\n",
    "    print(\"Covariance Matrix Computed...\")\n",
    "    print(covariance_matrix.shape)\n",
    "\n",
    "    # Perform Singular Value Decomposition (SVD)\n",
    "    U, s, Vt = randomized_svd(covariance_matrix, n_components=k, random_state=42)\n",
    "    print(\"SVD Performed...\")\n",
    "\n",
    "    # Extract canonical correlation coefficients\n",
    "    canonical_corr = np.sqrt(s[:min(rna_cca_data.shape[1], protein_cca_data.shape[1], k)])\n",
    "    # print(\"Canonical Correlation Coefficients:\", canonical_corr)\n",
    "\n",
    "    # Extract canonical weights\n",
    "    rna_weights = U[:rna_grouped.shape[1], :len(canonical_corr)]\n",
    "    protein_weights = Vt.T[:protein_grouped.shape[1], :len(canonical_corr)]\n",
    "\n",
    "    # Identify top RNA-Protein correlations\n",
    "    top_pairs = []\n",
    "    for i in range(len(canonical_corr)):\n",
    "        rna_loading = np.abs(rna_weights[:, i])  # Magnitude of loadings for RNA\n",
    "        protein_loading = np.abs(protein_weights[:, i])  # Magnitude of loadings for Protein\n",
    "\n",
    "        # Pair each RNA with each Protein for this canonical component\n",
    "        correlations = np.outer(rna_loading, protein_loading)\n",
    "\n",
    "        # Find the indices of the top RNA-Protein pair for this component\n",
    "        max_corr_index = np.unravel_index(np.argmax(correlations), correlations.shape)\n",
    "        top_pairs.append((max_corr_index, correlations[max_corr_index]))\n",
    "\n",
    "    # Extract and validate top RNA-Protein pairs\n",
    "    correlated_pairs = []\n",
    "    for i, (indices, corr_value) in enumerate(top_pairs):\n",
    "        rna_idx, protein_idx = indices\n",
    "        if rna_idx < len(rna_grouped.columns) and protein_idx < len(protein_grouped.columns):\n",
    "            rna_feature = rna_grouped.columns[rna_idx]\n",
    "            protein_feature = protein_grouped.columns[protein_idx]\n",
    "            correlated_pairs.append([rna_feature, protein_feature])  # Save the pair\n",
    "\n",
    "    correlated_pairs = correlated_pairs[:, ::-1]\n",
    "\n",
    "    # Convert the list of pairs into a numpy array\n",
    "    correlated_pairs_array = np.array(correlated_pairs, dtype=str)\n",
    "    correlated_pairs_df = pd.DataFrame(correlated_pairs_array, columns=['Protein Name', 'RNA Name'])\n",
    "\n",
    "    # Save the DataFrame to a CSV file\n",
    "    correlated_pairs_df.to_csv(output_csv_path, index=False)\n",
    "    print(f\"Correlated pairs saved to {output_csv_path}\")\n",
    "\n",
    "    rna_protein_correspondence = []\n",
    "\n",
    "    for i in range(correspondence.shape[0]):\n",
    "        curr_protein_name, curr_rna_names = correspondence.iloc[i]\n",
    "        if curr_protein_name not in protein_adata.var_names:\n",
    "            continue\n",
    "        if curr_rna_names.find('Ignore') != -1: # some correspondence ignored eg. protein isoform to one gene\n",
    "            continue\n",
    "        curr_rna_names = curr_rna_names.split('/') # eg. one protein to multiple genes\n",
    "        for r in curr_rna_names:\n",
    "            if r in rna_adata.var_names:\n",
    "                rna_protein_correspondence.append([r, curr_protein_name])\n",
    "    \n",
    "    rna_protein_correspondence = np.array(rna_protein_correspondence)\n",
    "    rna_protein_correspondence = np.concatenate((rna_protein_correspondence, correlated_pairs_array), axis=0)\n",
    "\n",
    "    # Keep only the topmost (first) occurrence of each RNA and protein\n",
    "    rna_to_protein = {}\n",
    "    protein_to_rna = {}\n",
    "    \n",
    "    # Iterate forward\n",
    "    for rna, protein in rna_protein_correspondence:\n",
    "        if rna not in rna_to_protein and protein not in protein_to_rna:\n",
    "            rna_to_protein[rna] = protein\n",
    "            protein_to_rna[protein] = rna\n",
    "    \n",
    "    # Extract the unique pairs in the original order\n",
    "    unique_pairs = np.array([[rna, rna_to_protein[rna]] for rna in rna_to_protein])\n",
    "    \n",
    "    rna_protein_correspondence = np.asarray(unique_pairs)\n",
    "    rna_protein_correspondence = rna_protein_correspondence[:min(150, rna_protein_correspondence.shape[0])]\n",
    "        \n",
    "    # Return the resulting array\n",
    "    return rna_protein_correspondence\n"
   ]
  },
  {
   "cell_type": "code",
   "execution_count": 11,
   "metadata": {
    "execution": {
     "iopub.execute_input": "2024-11-26T16:27:08.956171Z",
     "iopub.status.busy": "2024-11-26T16:27:08.955858Z",
     "iopub.status.idle": "2024-11-26T16:27:09.135126Z",
     "shell.execute_reply": "2024-11-26T16:27:09.134245Z",
     "shell.execute_reply.started": "2024-11-26T16:27:08.956137Z"
    },
    "trusted": true
   },
   "outputs": [
    {
     "name": "stderr",
     "output_type": "stream",
     "text": [
      "/opt/conda/lib/python3.10/site-packages/anndata/_core/anndata.py:401: FutureWarning: The dtype argument is deprecated and will be removed in late 2024.\n",
      "  warnings.warn(\n"
     ]
    }
   ],
   "source": [
    "protein = pd.read_csv(\"../data/citeseq_pbmc/pro.csv\") # 10k cells (protein)\n",
    "# convert to AnnData\n",
    "protein_adata = ad.AnnData(\n",
    "    protein.to_numpy(), dtype=np.float32\n",
    ")\n",
    "protein_adata.var_names = protein.columns"
   ]
  },
  {
   "cell_type": "code",
   "execution_count": 12,
   "metadata": {
    "execution": {
     "iopub.execute_input": "2024-11-26T16:27:09.137300Z",
     "iopub.status.busy": "2024-11-26T16:27:09.137024Z",
     "iopub.status.idle": "2024-11-26T16:27:10.319527Z",
     "shell.execute_reply": "2024-11-26T16:27:10.318659Z",
     "shell.execute_reply.started": "2024-11-26T16:27:09.137273Z"
    },
    "trusted": true
   },
   "outputs": [
    {
     "name": "stderr",
     "output_type": "stream",
     "text": [
      "/opt/conda/lib/python3.10/site-packages/anndata/_core/anndata.py:401: FutureWarning: The dtype argument is deprecated and will be removed in late 2024.\n",
      "  warnings.warn(\n"
     ]
    }
   ],
   "source": [
    "rna = mmread(\"../data/citeseq_pbmc/rna.txt\") # rna count as sparse matrix, 10k cells (RNA)\n",
    "rna_names = pd.read_csv('../data/citeseq_pbmc/citeseq_rna_names.csv')['names'].to_numpy()\n",
    "# convert to AnnData\n",
    "rna_adata = ad.AnnData(\n",
    "    rna.tocsr(), dtype=np.float32\n",
    ")\n",
    "rna_adata.var_names = rna_names"
   ]
  },
  {
   "cell_type": "code",
   "execution_count": 13,
   "metadata": {
    "execution": {
     "iopub.execute_input": "2024-11-26T16:27:10.321180Z",
     "iopub.status.busy": "2024-11-26T16:27:10.320808Z",
     "iopub.status.idle": "2024-11-26T16:27:10.350702Z",
     "shell.execute_reply": "2024-11-26T16:27:10.349965Z",
     "shell.execute_reply.started": "2024-11-26T16:27:10.321141Z"
    },
    "trusted": true
   },
   "outputs": [],
   "source": [
    "metadata = pd.read_csv('../data/citeseq_pbmc/meta.csv')\n",
    "labels_l1 = metadata['celltype.l1'].to_numpy()\n",
    "labels_l2 = metadata['celltype.l2'].to_numpy()\n",
    "\n",
    "protein_adata.obs['celltype.l1'] = labels_l1\n",
    "protein_adata.obs['celltype.l2'] = labels_l2\n",
    "rna_adata.obs['celltype.l1'] = labels_l1\n",
    "rna_adata.obs['celltype.l2'] = labels_l2"
   ]
  },
  {
   "cell_type": "code",
   "execution_count": null,
   "metadata": {
    "execution": {
     "iopub.execute_input": "2024-11-26T16:27:10.352571Z",
     "iopub.status.busy": "2024-11-26T16:27:10.351762Z",
     "iopub.status.idle": "2024-11-26T16:27:10.364210Z",
     "shell.execute_reply": "2024-11-26T16:27:10.363569Z",
     "shell.execute_reply.started": "2024-11-26T16:27:10.352545Z"
    },
    "trusted": true
   },
   "outputs": [
    {
     "data": {
      "text/html": [
       "<div>\n",
       "<style scoped>\n",
       "    .dataframe tbody tr th:only-of-type {\n",
       "        vertical-align: middle;\n",
       "    }\n",
       "\n",
       "    .dataframe tbody tr th {\n",
       "        vertical-align: top;\n",
       "    }\n",
       "\n",
       "    .dataframe thead th {\n",
       "        text-align: right;\n",
       "    }\n",
       "</style>\n",
       "<table border=\"1\" class=\"dataframe\">\n",
       "  <thead>\n",
       "    <tr style=\"text-align: right;\">\n",
       "      <th></th>\n",
       "      <th>Protein name</th>\n",
       "      <th>RNA name</th>\n",
       "    </tr>\n",
       "  </thead>\n",
       "  <tbody>\n",
       "    <tr>\n",
       "      <th>0</th>\n",
       "      <td>CD80</td>\n",
       "      <td>CD80</td>\n",
       "    </tr>\n",
       "    <tr>\n",
       "      <th>1</th>\n",
       "      <td>CD86</td>\n",
       "      <td>CD86</td>\n",
       "    </tr>\n",
       "    <tr>\n",
       "      <th>2</th>\n",
       "      <td>CD274</td>\n",
       "      <td>CD274</td>\n",
       "    </tr>\n",
       "    <tr>\n",
       "      <th>3</th>\n",
       "      <td>CD273</td>\n",
       "      <td>PDCD1LG2</td>\n",
       "    </tr>\n",
       "    <tr>\n",
       "      <th>4</th>\n",
       "      <td>CD275</td>\n",
       "      <td>ICOSLG</td>\n",
       "    </tr>\n",
       "  </tbody>\n",
       "</table>\n",
       "</div>"
      ],
      "text/plain": [
       "  Protein name  RNA name\n",
       "0         CD80      CD80\n",
       "1         CD86      CD86\n",
       "2        CD274     CD274\n",
       "3        CD273  PDCD1LG2\n",
       "4        CD275    ICOSLG"
      ]
     },
     "execution_count": 14,
     "metadata": {},
     "output_type": "execute_result"
    }
   ],
   "source": [
    "correspondence = pd.read_csv('protein_gene_conversion.csv')\n",
    "correspondence.head()"
   ]
  },
  {
   "cell_type": "code",
   "execution_count": 15,
   "metadata": {
    "execution": {
     "iopub.execute_input": "2024-11-26T16:27:10.365501Z",
     "iopub.status.busy": "2024-11-26T16:27:10.365216Z",
     "iopub.status.idle": "2024-11-26T16:27:47.812255Z",
     "shell.execute_reply": "2024-11-26T16:27:47.811353Z",
     "shell.execute_reply.started": "2024-11-26T16:27:10.365470Z"
    },
    "trusted": true
   },
   "outputs": [
    {
     "name": "stdout",
     "output_type": "stream",
     "text": [
      "Data grouped...\n",
      "Data Normalized...\n",
      "Data Centered...\n",
      "Covariance Matrix Computed...\n",
      "(20953, 20953)\n",
      "SVD Performed...\n",
      "Correlated pairs saved to correlated_pairs.csv\n"
     ]
    }
   ],
   "source": [
    "rna_protein_correspondence = compute_correlated_pairs(rna_adata, protein_adata, k=150,  correspondence = correspondence, output_csv_path='correlated_pairs.csv')"
   ]
  }
 ],
 "metadata": {
  "kaggle": {
   "accelerator": "nvidiaTeslaT4",
   "dataSources": [
    {
     "datasetId": 5960360,
     "sourceId": 9738117,
     "sourceType": "datasetVersion"
    }
   ],
   "dockerImageVersionId": 30787,
   "isGpuEnabled": true,
   "isInternetEnabled": true,
   "language": "python",
   "sourceType": "notebook"
  },
  "kernelspec": {
   "display_name": "Python 3",
   "language": "python",
   "name": "python3"
  },
  "language_info": {
   "codemirror_mode": {
    "name": "ipython",
    "version": 3
   },
   "file_extension": ".py",
   "mimetype": "text/x-python",
   "name": "python",
   "nbconvert_exporter": "python",
   "pygments_lexer": "ipython3",
   "version": "3.10.14"
  }
 },
 "nbformat": 4,
 "nbformat_minor": 4
}
